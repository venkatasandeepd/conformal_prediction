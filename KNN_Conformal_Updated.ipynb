{
 "cells": [
  {
   "cell_type": "markdown",
   "metadata": {},
   "source": [
    "# Nearest Neighbor Classification - KNN and Conformal Prediction"
   ]
  },
  {
   "cell_type": "markdown",
   "metadata": {},
   "source": [
    "* [Importing libraries](#Importing-libraries)\n",
    "* [Loading Data](#Loading-Data)\n",
    "* [Custom functions](#Custom-functions)\n",
    "* [Prediction algorithm KNN](#Prediction-algorithm-KNN)\n",
    "* [Running prediction for Iris](#Running-prediction-for-Iris)\n",
    "* [Running prediction for Ionosphere](#Running-prediction-for-Ionosphere)\n",
    "* [Choosing best K for Iris](#Choosing-best-K-for-Iris)\n",
    "* [Choosing best K for Ionosphere](#Choosing-best-K-for-Ionosphere)\n",
    "* [Conformal Prediction](#Conformal-Prediction)\n",
    "* [Conformal Prediction Algorithm](#Conformal-Prediction-Algorithm)\n",
    "* [Running Conformal Prediction for Iris ](#Running-Conformal-Prediction-for-Iris)\n",
    "* [Running Conformal Prediction for Ionosphere ](#Running-Conformal-Prediction-for-Ionosphere)"
   ]
  },
  {
   "cell_type": "markdown",
   "metadata": {},
   "source": [
    "## Importing libraries "
   ]
  },
  {
   "cell_type": "code",
   "execution_count": 30,
   "metadata": {},
   "outputs": [],
   "source": [
    "import sys\n",
    "import time\n",
    "\n",
    "import math\n",
    "import numpy as np\n",
    "import matplotlib.pyplot as plt\n",
    "\n",
    "from sklearn.datasets import load_iris\n",
    "from sklearn.model_selection import train_test_split"
   ]
  },
  {
   "cell_type": "markdown",
   "metadata": {},
   "source": [
    "## Loading Data"
   ]
  },
  {
   "cell_type": "code",
   "execution_count": 31,
   "metadata": {},
   "outputs": [],
   "source": [
    "iris_data = load_iris()\n",
    "ionosphere_data = np.genfromtxt(\"ionosphere.txt\", delimiter=',', names=True, dtype=None)"
   ]
  },
  {
   "cell_type": "code",
   "execution_count": 32,
   "metadata": {},
   "outputs": [],
   "source": [
    "iris_data\n",
    "\n",
    "iris_X = iris_data['data']\n",
    "iris_y = iris_data['target']"
   ]
  },
  {
   "cell_type": "code",
   "execution_count": 33,
   "metadata": {},
   "outputs": [],
   "source": [
    "ionosphere_data\n",
    "list_data = [list(x) for x in ionosphere_data]\n",
    "iono_X = []\n",
    "iono_y = []\n",
    "for i,d in enumerate(list_data):\n",
    "    iono_X.append([x for j,x in enumerate(d) if j!=len(d)-1])\n",
    "    iono_y.append([x for j,x in enumerate(d) if j==len(d)-1])\n",
    "\n",
    "iono_X = np.array(iono_X)\n",
    "iono_y = np.hstack(iono_y)\n",
    "iono_y = np.where(iono_y == 1, 1, 0) #converting to 0 and 1 for simplicity\n"
   ]
  },
  {
   "cell_type": "markdown",
   "metadata": {},
   "source": [
    "___The data consists of one duplicate value, which will result in `0` euclidean distance, which we will omit at that part___"
   ]
  },
  {
   "cell_type": "code",
   "execution_count": 34,
   "metadata": {},
   "outputs": [
    {
     "name": "stdout",
     "output_type": "stream",
     "text": [
      "150 350\n",
      "149 349\n"
     ]
    }
   ],
   "source": [
    "str_X = [str(i) for i in iris_X]\n",
    "str_X1 = [str(i) for i in iono_X]\n",
    "print(len(str_X), len(str_X1))\n",
    "\n",
    "print(len(set(str_X)), len(set(str_X1)))"
   ]
  },
  {
   "cell_type": "markdown",
   "metadata": {},
   "source": [
    "##  Custom functions"
   ]
  },
  {
   "cell_type": "code",
   "execution_count": 35,
   "metadata": {},
   "outputs": [],
   "source": [
    "def sort_it(list_to_sort):    \n",
    "    try:\n",
    "        for i in range(len(list_to_sort)):\n",
    "            for j in range(len(list_to_sort) - 1):\n",
    "                if list_to_sort[j] > list_to_sort[j+1]:\n",
    "                    list_to_sort[j], list_to_sort[j + 1] = list_to_sort[j + 1], list_to_sort[j]\n",
    "                \n",
    "        return list_to_sort\n",
    "    except:\n",
    "        print(sys.exc_info())"
   ]
  },
  {
   "cell_type": "markdown",
   "metadata": {},
   "source": [
    "## Prediction algorithm KNN"
   ]
  },
  {
   "cell_type": "code",
   "execution_count": 36,
   "metadata": {},
   "outputs": [],
   "source": [
    "def run_prediction(X, y, test_size=0.3, train_size=0.7, random_state=3006, k=1):\n",
    "    \n",
    "    if(test_size+train_size > 1 or test_size+train_size < 0):\n",
    "        print(\"The sum of test_size and train_size should be between 0 and 1\")\n",
    "        return\n",
    "    \n",
    "    prediction = {\"predicted_list\" : [], \"accuracy\" : 0}\n",
    "    \n",
    "    try:\n",
    "        # splitting test train data\n",
    "        \n",
    "        X_train, X_test, y_train, y_test = train_test_split(X, y, test_size=test_size, train_size=train_size, random_state=random_state)\n",
    "\n",
    "        predicted_list = []\n",
    "    \n",
    "        # training on X_train, y_train by calculating Euclidean distances\n",
    "        for d in range(len(X_test)):\n",
    "            eucl_distances = []\n",
    "            for i in range(len(X_train)):\n",
    "                #eucl_distances.append([np.sqrt(np.sum(np.power(X_test[d,:] - X_train[i,:], 2))), i])\n",
    "                eucl_distances.append([np.linalg.norm(X_test[d,:] - X_train[i,:]), i]) #used linalg for faster calculation time\n",
    "                \n",
    "            eucl_distances = sort_it(eucl_distances)\n",
    "            #print(eucl_distances)\n",
    "    \n",
    "            targets = [y_train[eucl_distances[i][1]] for i in range(k)]\n",
    "            #print(targets)\n",
    "        \n",
    "            predicted_list.append(max(targets, key=targets.count))\n",
    "\n",
    "        #print(predicted_list)\n",
    "        prediction['predicted_list'] = predicted_list\n",
    "        prediction['accuracy'] = np.mean(prediction['predicted_list'] == y_test)\n",
    "        return prediction\n",
    "    \n",
    "    except:\n",
    "        print(sys.exc_info())"
   ]
  },
  {
   "cell_type": "markdown",
   "metadata": {},
   "source": [
    "### Running prediction for Iris"
   ]
  },
  {
   "cell_type": "code",
   "execution_count": 37,
   "metadata": {},
   "outputs": [
    {
     "name": "stdout",
     "output_type": "stream",
     "text": [
      "0.9555555555555556\n"
     ]
    }
   ],
   "source": [
    "try :\n",
    "    nn = run_prediction(iris_X, iris_y, test_size=0.3,train_size=0.7, random_state=3006, k=1)\n",
    "    print(nn[\"accuracy\"])\n",
    "except:\n",
    "    print(sys.exc_info()) \n"
   ]
  },
  {
   "cell_type": "markdown",
   "metadata": {},
   "source": [
    "### Running prediction for Ionosphere"
   ]
  },
  {
   "cell_type": "code",
   "execution_count": 38,
   "metadata": {},
   "outputs": [
    {
     "name": "stdout",
     "output_type": "stream",
     "text": [
      "0.9142857142857143\n"
     ]
    }
   ],
   "source": [
    "try :\n",
    "    nn = run_prediction(iono_X, iono_y, test_size=0.3,train_size=0.7, random_state=3006, k=1)\n",
    "    print(nn[\"accuracy\"])\n",
    "except:\n",
    "    print(sys.exc_info()) "
   ]
  },
  {
   "cell_type": "markdown",
   "metadata": {},
   "source": [
    "### Choosing best K for Iris"
   ]
  },
  {
   "cell_type": "code",
   "execution_count": 39,
   "metadata": {},
   "outputs": [
    {
     "name": "stdout",
     "output_type": "stream",
     "text": [
      "['0.96', '0.96', '0.96', '0.96', '0.98', '0.98', '1.00', '1.00', '1.00', '1.00', '1.00', '0.98', '0.98', '0.98', '1.00', '0.98', '1.00', '1.00', '1.00', '1.00', '1.00', '0.98', '0.98', '0.98']\n"
     ]
    },
    {
     "data": {
      "text/plain": "<Figure size 432x288 with 1 Axes>",
      "image/png": "[encoded data removed]"
     },
     "metadata": {
      "needs_background": "light"
     },
     "output_type": "display_data"
    }
   ],
   "source": [
    "k_neighbors = list(range(1,25))\n",
    "accuracy_scores = [run_prediction(iris_X, iris_y, test_size=0.3,train_size=0.7, random_state=3006, k=s)[\"accuracy\"] for s in k_neighbors]\n",
    "print([\"{:.2f}\".format(t) for t in accuracy_scores])\n",
    "\n",
    "plt.plot(k_neighbors, accuracy_scores)\n",
    "plt.xlabel(\"K\")\n",
    "plt.ylabel(\"Accuracy\")\n",
    "plt.show()"
   ]
  },
  {
   "cell_type": "markdown",
   "metadata": {},
   "source": [
    "###  Choosing best K for Ionosphere"
   ]
  },
  {
   "cell_type": "code",
   "execution_count": 40,
   "metadata": {},
   "outputs": [
    {
     "name": "stdout",
     "output_type": "stream",
     "text": [
      "['0.91', '0.91', '0.87', '0.90', '0.87', '0.87', '0.85', '0.86', '0.86', '0.86', '0.86', '0.86', '0.87', '0.87', '0.87', '0.87', '0.87', '0.87', '0.87', '0.87', '0.87', '0.87', '0.87', '0.87']\n"
     ]
    },
    {
     "data": {
      "text/plain": "<Figure size 432x288 with 1 Axes>",
      "image/png": "[encoded data removed]"
     },
     "metadata": {
      "needs_background": "light"
     },
     "output_type": "display_data"
    }
   ],
   "source": [
    "k_neighbors = list(range(1,25))\n",
    "accuracy_scores = [run_prediction(iono_X, iono_y, test_size=0.3,train_size=0.7, random_state=3006, k=s)[\"accuracy\"] for s in k_neighbors]\n",
    "print([\"{:.2f}\".format(t) for t in accuracy_scores])\n",
    "\n",
    "plt.plot(k_neighbors, accuracy_scores)\n",
    "plt.xlabel(\"K\")\n",
    "plt.ylabel(\"Accuracy\")\n",
    "plt.show()"
   ]
  },
  {
   "cell_type": "code",
   "execution_count": 40,
   "metadata": {},
   "outputs": [],
   "source": []
  },
  {
   "cell_type": "markdown",
   "metadata": {},
   "source": [
    "## Conformal Prediction Algorithm"
   ]
  },
  {
   "cell_type": "code",
   "execution_count": 41,
   "outputs": [],
   "source": [
    "def calculate_distance(X_tr, y_tr):\n",
    "    train_length = X_tr.shape[0]\n",
    "    same_class_dist, other_class_dist = [[math.inf for i in range(train_length)] for j in range(2)]\n",
    "\n",
    "    for i in range(train_length-1):\n",
    "        for j in range(i+1,train_length):\n",
    "            distance = np.linalg.norm(X_tr[i]-X_tr[j])\n",
    "\n",
    "            if y_tr[i]==y_tr[j]:\n",
    "                if distance < same_class_dist[i]:\n",
    "                    same_class_dist[i] = distance\n",
    "                if distance < same_class_dist[j]:\n",
    "                    same_class_dist[j] = distance\n",
    "            else:\n",
    "                if distance < other_class_dist[i]:\n",
    "                    other_class_dist[i] = distance\n",
    "                if distance < other_class_dist[j]:\n",
    "                    other_class_dist[j] = distance\n",
    "\n",
    "    return [same_class_dist, other_class_dist]"
   ],
   "metadata": {
    "collapsed": false,
    "pycharm": {
     "name": "#%%\n"
    }
   }
  },
  {
   "cell_type": "code",
   "execution_count": 47,
   "outputs": [],
   "source": [
    "def conformal(X, y, dataset, test_size=0.3, train_size=0.7, random_state=3006):\n",
    "    predicted_list, p_values = [[] for i in range(2)]\n",
    "    # splitting the data\n",
    "    X_train,X_test,y_train,y_test = train_test_split(X, y, test_size=test_size, train_size=train_size, random_state=random_state)\n",
    "    lenrange = len(list(set(y_train)))\n",
    "    same_class_dist, other_class_dist = calculate_distance(X_train, y_train)\n",
    "\n",
    "    for i in range(len(X_test)):\n",
    "        conformity_scores = [[] for j in range(lenrange)]\n",
    "        curr_testXval = X_test[i]\n",
    "        for j in range(lenrange):\n",
    "            new_same_dist = np.append(same_class_dist, math.inf)\n",
    "            new_other_class_dist = np.append(other_class_dist, math.inf)\n",
    "            extended_X = np.concatenate((X_train, [curr_testXval]), axis = 0)\n",
    "            extended_y = np.concatenate((y_train, [j]), axis = 0)\n",
    "\n",
    "            for curr_idx, curr_elem in enumerate(extended_X):\n",
    "                distance = np.linalg.norm(curr_elem - curr_testXval)\n",
    "                idx = len(extended_X)-1\n",
    "\n",
    "                if distance != 0: #to avoid duplicate value\n",
    "                    if j == extended_y[curr_idx]:\n",
    "                        if distance < new_same_dist[idx]:\n",
    "                            new_same_dist[idx] = distance\n",
    "                    else:\n",
    "                        if distance < new_other_class_dist[idx]:\n",
    "                            new_other_class_dist[idx] = distance\n",
    "\n",
    "                if new_same_dist[curr_idx] == 0: #to avoid duplicate value\n",
    "                    conformity_scores[j].append(0)\n",
    "                else:\n",
    "                    conformity_scores[j].append(new_other_class_dist[curr_idx]/new_same_dist[curr_idx])\n",
    "\n",
    "        p_vals = []\n",
    "        for k in range(lenrange):\n",
    "            p_vals.append(np.mean(conformity_scores[k]<=conformity_scores[k][X_train.shape[0]]))\n",
    "\n",
    "        predicted_list.append(p_vals.index(max(p_vals)))\n",
    "        p_values.append(p_vals)\n",
    "\n",
    "    falsep = []\n",
    "    for i, p in enumerate(p_values):\n",
    "        sumval = 0;\n",
    "        for j, q in enumerate(p):\n",
    "            if j != y_test[i]:\n",
    "                sumval += q\n",
    "        falsep.append(sumval)\n",
    "\n",
    "    false_p_value = np.sum(falsep)/(len(falsep)*2)\n",
    "    accuracy = np.mean(predicted_list == y_test)\n",
    "\n",
    "    print(\"For {}, \"\n",
    "          \"The average false p-value : {} \\n\"\n",
    "          \"The accuracy of prediction : {} \\n\"\n",
    "          \"The test error rate is : {}\"\n",
    "          .format(dataset, false_p_value, accuracy, 1-accuracy))"
   ],
   "metadata": {
    "collapsed": false,
    "pycharm": {
     "name": "#%%\n"
    }
   }
  },
  {
   "cell_type": "markdown",
   "metadata": {},
   "source": [
    "## Running Conformal Prediction for Iris "
   ]
  },
  {
   "cell_type": "code",
   "execution_count": 48,
   "metadata": {},
   "outputs": [
    {
     "name": "stdout",
     "output_type": "stream",
     "text": [
      "For iris dataset, The average false p-value : 0.030817610062893092 \n",
      "The accuracy of prediction : 0.9555555555555556 \n",
      "The test error rate is : 0.0444444444444444\n",
      "\n",
      "Time elapsed : 0.1819469928741455 seconds\n"
     ]
    }
   ],
   "source": [
    "start_time = time.time()\n",
    "try :\n",
    "    conformal(iris_X, iris_y, \"iris dataset\", test_size=0.3,train_size=0.7, random_state=3006)\n",
    "except:\n",
    "    print(sys.exc_info()) \n",
    "print(\"\\nTime elapsed : %s seconds\" % (time.time() - start_time))"
   ]
  },
  {
   "cell_type": "markdown",
   "metadata": {},
   "source": [
    "## Running Conformal Prediction for Ionosphere"
   ]
  },
  {
   "cell_type": "code",
   "execution_count": 49,
   "metadata": {
    "pycharm": {
     "name": "#%%\n"
    }
   },
   "outputs": [
    {
     "name": "stdout",
     "output_type": "stream",
     "text": [
      "For ionosphere dataset, The average false p-value : 0.028862973760932945 \n",
      "The accuracy of prediction : 0.9142857142857143 \n",
      "The test error rate is : 0.08571428571428574\n",
      "\n",
      "Time elapsed : 0.9404799938201904 seconds\n"
     ]
    }
   ],
   "source": [
    "start_time = time.time()\n",
    "try :\n",
    "    conformal(iono_X, iono_y, \"ionosphere dataset\", test_size=0.3,train_size=0.7, random_state=3006)\n",
    "except:\n",
    "    print(sys.exc_info()) \n",
    "print(\"\\nTime elapsed : %s seconds\" % (time.time() - start_time))"
   ]
  }
 ],
 "metadata": {
  "kernelspec": {
   "display_name": "Python 3",
   "language": "python",
   "name": "python3"
  },
  "language_info": {
   "codemirror_mode": {
    "name": "ipython",
    "version": 3
   },
   "file_extension": ".py",
   "mimetype": "text/x-python",
   "name": "python",
   "nbconvert_exporter": "python",
   "pygments_lexer": "ipython3",
   "version": "3.7.6"
  }
 },
 "nbformat": 4,
 "nbformat_minor": 2
}